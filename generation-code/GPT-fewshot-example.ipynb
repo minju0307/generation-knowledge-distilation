{
 "cells": [
  {
   "cell_type": "code",
   "execution_count": 1,
   "id": "81321f71",
   "metadata": {},
   "outputs": [],
   "source": [
    "import torch\n",
    "from transformers import AutoTokenizer, GPTJForCausalLM\n",
    "\n",
    "tokenizer = AutoTokenizer.from_pretrained(\"EleutherAI/gpt-j-6B\")\n",
    "model = GPTJForCausalLM.from_pretrained(\"EleutherAI/gpt-j-6B\", revision=\"float16\", torch_dtype=torch.float16, low_cpu_mem_usage=True).to('cuda:2')\n"
   ]
  },
  {
   "cell_type": "code",
   "execution_count": 2,
   "id": "2dc318cd",
   "metadata": {},
   "outputs": [],
   "source": [
    "prompt=\"Write the right ending of the following story in one sentnece. The right ending should not contradict the story but should be something that will happen after the story. \\\n",
    "##example 1 story: Heather and her family really wanted tacos for dinner. \\\n",
    "Two of the children wanted chicken tacos. The other two children wanted beef. \\\n",
    "Heather took great care preparing all the tacos that each wanted. \\\n",
    "ending: Everyone sat down at dinner and enjoyed eating the tacos together.\\\n",
    "##example 2 story: David noticed he had put on a lot of weight recently. \\\n",
    "He examined his habits to try and figure out the reason. \\\n",
    "He realized he'd been eating too much fast food lately. \\\n",
    "He stopped going to burger places and started a vegetarian diet. \\\n",
    "ending:\""
   ]
  },
  {
   "cell_type": "code",
   "execution_count": 3,
   "id": "35e85bea",
   "metadata": {},
   "outputs": [
    {
     "name": "stderr",
     "output_type": "stream",
     "text": [
      "The attention mask and the pad token id were not set. As a consequence, you may observe unexpected behavior. Please pass your input's `attention_mask` to obtain reliable results.\n",
      "Setting `pad_token_id` to `eos_token_id`:50256 for open-end generation.\n"
     ]
    }
   ],
   "source": [
    "tokens = tokenizer.encode(prompt, return_tensors='pt').to(device='cuda:2', non_blocking=True)\n",
    "gen_tokens = model.generate(tokens, do_sample=True, temperature=0.8, max_length=len(tokens[0])+14, num_beams=2, repetition_penalty=10.0, length_penalty=10.0, early_stopping=True)\n",
    "generated = tokenizer.batch_decode(gen_tokens)[0]"
   ]
  },
  {
   "cell_type": "code",
   "execution_count": 4,
   "id": "8d955833",
   "metadata": {},
   "outputs": [
    {
     "name": "stdout",
     "output_type": "stream",
     "text": [
      "Write the right ending of the following story in one sentnece. The right ending should not contradict the story but should be something that will happen after the story. ##example 1 story: Heather and her family really wanted tacos for dinner. Two of the children wanted chicken tacos. The other two children wanted beef. Heather took great care preparing all the tacos that each wanted. ending: Everyone sat down at dinner and enjoyed eating the tacos together.##example 2 story: David noticed he had put on a lot of weight recently. He examined his habits to try and figure out the reason. He realized he'd been eating too much fast food lately. He stopped going to burger places and started a vegetarian diet. ending: After several weeks, David lost 20 pounds.<|endoftext|>\n"
     ]
    }
   ],
   "source": [
    "print(generated)"
   ]
  },
  {
   "cell_type": "code",
   "execution_count": null,
   "id": "eb5679cb",
   "metadata": {},
   "outputs": [],
   "source": []
  }
 ],
 "metadata": {
  "kernelspec": {
   "display_name": "Python 3 (ipykernel)",
   "language": "python",
   "name": "python3"
  },
  "language_info": {
   "codemirror_mode": {
    "name": "ipython",
    "version": 3
   },
   "file_extension": ".py",
   "mimetype": "text/x-python",
   "name": "python",
   "nbconvert_exporter": "python",
   "pygments_lexer": "ipython3",
   "version": "3.8.10"
  }
 },
 "nbformat": 4,
 "nbformat_minor": 5
}
